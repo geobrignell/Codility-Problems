{
  "nbformat": 4,
  "nbformat_minor": 0,
  "metadata": {
    "colab": {
      "name": "transaction_data_exercise.ipynb",
      "provenance": [],
      "authorship_tag": "ABX9TyNlsZEwV7YoHQW4Gg3G8Ci0"
    },
    "kernelspec": {
      "name": "python3",
      "display_name": "Python 3"
    },
    "language_info": {
      "name": "python"
    }
  },
  "cells": [
    {
      "cell_type": "code",
      "execution_count": null,
      "metadata": {
        "id": "qJKH1ZHrMEhQ"
      },
      "outputs": [],
      "source": [
        "import numpy as np\n",
        "import pandas as pd\n",
        "import matplotlib.pyplot as plt"
      ]
    },
    {
      "cell_type": "code",
      "source": [
        "data = pd.read_csv(\"simulated_transactions.csv\",na_values=np.nan)\n",
        "data.columns = data.columns.str.lower()\n",
        "data.columns = data.columns.str.replace(\" \",\"_\")\n",
        "data.head(5)\n",
        "\n",
        "#data with 3rd party numbers\n",
        "priv_contacts_data = data\n",
        "#data without\n",
        "data.drop(data.columns[-2],inplace=True,axis=1)"
      ],
      "metadata": {
        "id": "roYrSm3RMXMR"
      },
      "execution_count": null,
      "outputs": []
    },
    {
      "cell_type": "markdown",
      "source": [
        "What we want to look into:\n",
        "\n",
        "-where money goes /\n",
        "\n",
        "-spending amount habits\n",
        "\n",
        "-balance trends\n",
        "\n"
      ],
      "metadata": {
        "id": "YiuybJfo37Cr"
      }
    },
    {
      "cell_type": "code",
      "source": [
        "data.head()"
      ],
      "metadata": {
        "id": "dopXEqh6f_Bq",
        "colab": {
          "base_uri": "https://localhost:8080/",
          "height": 206
        },
        "outputId": "9575f6e9-8561-4eae-98de-913e75966e07"
      },
      "execution_count": null,
      "outputs": [
        {
          "output_type": "execute_result",
          "data": {
            "text/plain": [
              "         date timestamp   account_no  balance  amount third_party_name\n",
              "0  01/01/2023     00:00  417831169.0   4166.0  2870.0     Pets at Home\n",
              "1  01/01/2023     00:00  417831169.0   1866.0 -2300.0              NaN\n",
              "2  01/01/2023     00:00  684967752.0   3296.0  2300.0              NaN\n",
              "3  01/01/2023     00:00  619428091.0   2980.0  1596.0  Happy Days Home\n",
              "4  01/01/2023     00:00  658100753.0   3904.0  2870.0      Pets Corner"
            ],
            "text/html": [
              "\n",
              "  <div id=\"df-782a4920-c517-4df0-b080-baf26f443c23\">\n",
              "    <div class=\"colab-df-container\">\n",
              "      <div>\n",
              "<style scoped>\n",
              "    .dataframe tbody tr th:only-of-type {\n",
              "        vertical-align: middle;\n",
              "    }\n",
              "\n",
              "    .dataframe tbody tr th {\n",
              "        vertical-align: top;\n",
              "    }\n",
              "\n",
              "    .dataframe thead th {\n",
              "        text-align: right;\n",
              "    }\n",
              "</style>\n",
              "<table border=\"1\" class=\"dataframe\">\n",
              "  <thead>\n",
              "    <tr style=\"text-align: right;\">\n",
              "      <th></th>\n",
              "      <th>date</th>\n",
              "      <th>timestamp</th>\n",
              "      <th>account_no</th>\n",
              "      <th>balance</th>\n",
              "      <th>amount</th>\n",
              "      <th>third_party_name</th>\n",
              "    </tr>\n",
              "  </thead>\n",
              "  <tbody>\n",
              "    <tr>\n",
              "      <th>0</th>\n",
              "      <td>01/01/2023</td>\n",
              "      <td>00:00</td>\n",
              "      <td>417831169.0</td>\n",
              "      <td>4166.0</td>\n",
              "      <td>2870.0</td>\n",
              "      <td>Pets at Home</td>\n",
              "    </tr>\n",
              "    <tr>\n",
              "      <th>1</th>\n",
              "      <td>01/01/2023</td>\n",
              "      <td>00:00</td>\n",
              "      <td>417831169.0</td>\n",
              "      <td>1866.0</td>\n",
              "      <td>-2300.0</td>\n",
              "      <td>NaN</td>\n",
              "    </tr>\n",
              "    <tr>\n",
              "      <th>2</th>\n",
              "      <td>01/01/2023</td>\n",
              "      <td>00:00</td>\n",
              "      <td>684967752.0</td>\n",
              "      <td>3296.0</td>\n",
              "      <td>2300.0</td>\n",
              "      <td>NaN</td>\n",
              "    </tr>\n",
              "    <tr>\n",
              "      <th>3</th>\n",
              "      <td>01/01/2023</td>\n",
              "      <td>00:00</td>\n",
              "      <td>619428091.0</td>\n",
              "      <td>2980.0</td>\n",
              "      <td>1596.0</td>\n",
              "      <td>Happy Days Home</td>\n",
              "    </tr>\n",
              "    <tr>\n",
              "      <th>4</th>\n",
              "      <td>01/01/2023</td>\n",
              "      <td>00:00</td>\n",
              "      <td>658100753.0</td>\n",
              "      <td>3904.0</td>\n",
              "      <td>2870.0</td>\n",
              "      <td>Pets Corner</td>\n",
              "    </tr>\n",
              "  </tbody>\n",
              "</table>\n",
              "</div>\n",
              "      <button class=\"colab-df-convert\" onclick=\"convertToInteractive('df-782a4920-c517-4df0-b080-baf26f443c23')\"\n",
              "              title=\"Convert this dataframe to an interactive table.\"\n",
              "              style=\"display:none;\">\n",
              "        \n",
              "  <svg xmlns=\"http://www.w3.org/2000/svg\" height=\"24px\"viewBox=\"0 0 24 24\"\n",
              "       width=\"24px\">\n",
              "    <path d=\"M0 0h24v24H0V0z\" fill=\"none\"/>\n",
              "    <path d=\"M18.56 5.44l.94 2.06.94-2.06 2.06-.94-2.06-.94-.94-2.06-.94 2.06-2.06.94zm-11 1L8.5 8.5l.94-2.06 2.06-.94-2.06-.94L8.5 2.5l-.94 2.06-2.06.94zm10 10l.94 2.06.94-2.06 2.06-.94-2.06-.94-.94-2.06-.94 2.06-2.06.94z\"/><path d=\"M17.41 7.96l-1.37-1.37c-.4-.4-.92-.59-1.43-.59-.52 0-1.04.2-1.43.59L10.3 9.45l-7.72 7.72c-.78.78-.78 2.05 0 2.83L4 21.41c.39.39.9.59 1.41.59.51 0 1.02-.2 1.41-.59l7.78-7.78 2.81-2.81c.8-.78.8-2.07 0-2.86zM5.41 20L4 18.59l7.72-7.72 1.47 1.35L5.41 20z\"/>\n",
              "  </svg>\n",
              "      </button>\n",
              "      \n",
              "  <style>\n",
              "    .colab-df-container {\n",
              "      display:flex;\n",
              "      flex-wrap:wrap;\n",
              "      gap: 12px;\n",
              "    }\n",
              "\n",
              "    .colab-df-convert {\n",
              "      background-color: #E8F0FE;\n",
              "      border: none;\n",
              "      border-radius: 50%;\n",
              "      cursor: pointer;\n",
              "      display: none;\n",
              "      fill: #1967D2;\n",
              "      height: 32px;\n",
              "      padding: 0 0 0 0;\n",
              "      width: 32px;\n",
              "    }\n",
              "\n",
              "    .colab-df-convert:hover {\n",
              "      background-color: #E2EBFA;\n",
              "      box-shadow: 0px 1px 2px rgba(60, 64, 67, 0.3), 0px 1px 3px 1px rgba(60, 64, 67, 0.15);\n",
              "      fill: #174EA6;\n",
              "    }\n",
              "\n",
              "    [theme=dark] .colab-df-convert {\n",
              "      background-color: #3B4455;\n",
              "      fill: #D2E3FC;\n",
              "    }\n",
              "\n",
              "    [theme=dark] .colab-df-convert:hover {\n",
              "      background-color: #434B5C;\n",
              "      box-shadow: 0px 1px 3px 1px rgba(0, 0, 0, 0.15);\n",
              "      filter: drop-shadow(0px 1px 2px rgba(0, 0, 0, 0.3));\n",
              "      fill: #FFFFFF;\n",
              "    }\n",
              "  </style>\n",
              "\n",
              "      <script>\n",
              "        const buttonEl =\n",
              "          document.querySelector('#df-782a4920-c517-4df0-b080-baf26f443c23 button.colab-df-convert');\n",
              "        buttonEl.style.display =\n",
              "          google.colab.kernel.accessAllowed ? 'block' : 'none';\n",
              "\n",
              "        async function convertToInteractive(key) {\n",
              "          const element = document.querySelector('#df-782a4920-c517-4df0-b080-baf26f443c23');\n",
              "          const dataTable =\n",
              "            await google.colab.kernel.invokeFunction('convertToInteractive',\n",
              "                                                     [key], {});\n",
              "          if (!dataTable) return;\n",
              "\n",
              "          const docLinkHtml = 'Like what you see? Visit the ' +\n",
              "            '<a target=\"_blank\" href=https://colab.research.google.com/notebooks/data_table.ipynb>data table notebook</a>'\n",
              "            + ' to learn more about interactive tables.';\n",
              "          element.innerHTML = '';\n",
              "          dataTable['output_type'] = 'display_data';\n",
              "          await google.colab.output.renderOutput(dataTable, element);\n",
              "          const docLink = document.createElement('div');\n",
              "          docLink.innerHTML = docLinkHtml;\n",
              "          element.appendChild(docLink);\n",
              "        }\n",
              "      </script>\n",
              "    </div>\n",
              "  </div>\n",
              "  "
            ]
          },
          "metadata": {},
          "execution_count": 64
        }
      ]
    },
    {
      "cell_type": "code",
      "source": [
        "#Finding the average amount spent on each of the companies\n",
        "\n",
        "#First need to seperate out all the account numbers\n",
        "numbers = []\n",
        "for number in data[\"account_no\"]:\n",
        "  if number in numbers:\n",
        "    pass\n",
        "  else:\n",
        "    numbers.append(number)\n",
        "numbers = pd.Series(numbers)\n",
        "\n",
        "#Then get the data for each account\n",
        "account_data = []\n",
        "for number in numbers:\n",
        "  account_data.append(data[data[\"account_no\"]==number])"
      ],
      "metadata": {
        "id": "-H3KTu9Yf-2t"
      },
      "execution_count": null,
      "outputs": []
    },
    {
      "cell_type": "code",
      "source": [
        "#Get sum of amount for each party name for each account\n",
        "#List of 3rd party names\n",
        "companies = []\n",
        "for company in data[\"third_party_name\"]:\n",
        "  if company in companies:\n",
        "    pass\n",
        "  else:\n",
        "    companies.append(company)"
      ],
      "metadata": {
        "id": "e54UWnYbOofD"
      },
      "execution_count": null,
      "outputs": []
    },
    {
      "cell_type": "code",
      "source": [
        "third_party_amount_data = []\n",
        "for account in account_data:\n",
        "  needed_data = pd.DataFrame().assign(amount=account[\"amount\"],third_party_name=account[\"third_party_name\"])\n",
        "  needed_data = needed_data.groupby([\"third_party_name\"]).sum()\n",
        "  third_party_amount_data.append(needed_data)\n"
      ],
      "metadata": {
        "id": "ArL4XKrmgDM6"
      },
      "execution_count": null,
      "outputs": []
    },
    {
      "cell_type": "code",
      "source": [
        "average_amount = []\n",
        "for company in companies:\n",
        "  sum = 0\n",
        "  for account in account_data:\n",
        "    sum += account[\"amount\"].where(account[\"third_party_name\"]==company).sum()\n",
        "  sum = sum/len(data[data[\"third_party_name\"]==company])\n",
        "  average_amount.append(sum)"
      ],
      "metadata": {
        "id": "wpg_WXjpgDK1",
        "colab": {
          "base_uri": "https://localhost:8080/"
        },
        "outputId": "049d81dc-b71a-498b-eaef-761862e53aa2"
      },
      "execution_count": null,
      "outputs": [
        {
          "output_type": "stream",
          "name": "stderr",
          "text": [
            "/usr/local/lib/python3.7/dist-packages/ipykernel_launcher.py:6: RuntimeWarning: invalid value encountered in double_scalars\n",
            "  \n"
          ]
        }
      ]
    },
    {
      "cell_type": "code",
      "source": [
        "print(average_amount)"
      ],
      "metadata": {
        "colab": {
          "base_uri": "https://localhost:8080/"
        },
        "id": "9r8puxuFafTS",
        "outputId": "6008768b-4a87-4725-ecaf-a026e9b9ab87"
      },
      "execution_count": null,
      "outputs": [
        {
          "output_type": "stream",
          "name": "stdout",
          "text": [
            "[234.7945205479452, 0.0, 409.28767123287673, 492.7306849315068, 401.09589041095893, 271.7260273972603, 685.776438356164, 277.47945205479454, 205.4794520547945, 160.27397260273972, 155.55479452054803, 187.47260273972597, 277.1041095890412, -198.87410958904113, 266.13698630136986, -730.5890410958904, -18.544383561643855, -41.10534246575341, -44.55931506849312, -22.246575342465754, -96.56054794520549, -88.0545205479451, -21.01479452054796, -110.81835616438339, 401.5858904109589, -129.16191780821921, -73.54753424657534, -24.47027397260274, -45.54191780821915, -922.5554794520548, -395.61835616438367, -7.039041095890411, -214.8124657534246, -1430.972602739726, -10.872739726027397, 109.9123287671233, -20.536301369863015, -22.005479452054796, 57.581506849315076, -277.640410958904, -83.40438356164381, -715.5095890410959, -35.413698630136906, 71.78246575342467, -503.49808219178084, -76.11068493150684, -69.88602739726028, -29.62808219178082, -102.78575342465751, -327.94273972602736, -188.56767123287665, -47.15205479452053, -54.10054794520547, 38.296027397260254, -10.425753424657536, -0.15753424657534246, -23.621780821917813, -1.7808219178082192, -27.84767123287672, -2.191780821917808, -1.2324657534246575, 396.3424657534247, 341.027397260274, 754.8561643835617, 169.31506849315068, 114.72602739726027, 215.96438356164384, 350.52465753424656, 325.0, 135.68493150684932, -3.1506849315068495, -4.109589041095891, -1.5068493150684932]\n"
          ]
        }
      ]
    },
    {
      "cell_type": "code",
      "source": [
        "companies_data = pd.DataFrame().assign(name=np.array(companies),average_amount=pd.array(average_amount))"
      ],
      "metadata": {
        "id": "mY0MJhBlgDJB"
      },
      "execution_count": null,
      "outputs": []
    },
    {
      "cell_type": "code",
      "source": [
        "incomes = companies_data[companies_data[\"average_amount\"]>0]\n",
        "\n",
        "spends = companies_data[companies_data[\"average_amount\"]<0]"
      ],
      "metadata": {
        "id": "m0Mf7cFngDG3"
      },
      "execution_count": null,
      "outputs": []
    },
    {
      "cell_type": "code",
      "source": [
        "incomes.sort_values(\"average_amount\",inplace=True, ascending=False)\n",
        "print(incomes)"
      ],
      "metadata": {
        "id": "ffwLphUtgDEx",
        "colab": {
          "base_uri": "https://localhost:8080/"
        },
        "outputId": "874f7d65-9299-4f8b-bf20-737bb606c6a4"
      },
      "execution_count": null,
      "outputs": [
        {
          "output_type": "stream",
          "name": "stdout",
          "text": [
            "                                     name  average_amount\n",
            "68            University College Hospital     3954.166667\n",
            "63                     Green Park Academy     3673.633333\n",
            "7                         Premier Finance          3376.0\n",
            "14  Howlader and Co Chartered Accountants          3238.0\n",
            "66                                   Head         3153.08\n",
            "3                             Pets Corner        2997.445\n",
            "61                                Jollyes          2893.3\n",
            "8                              Specsavers          2500.0\n",
            "64                              Town High          2472.0\n",
            "0                            Pets at Home     2448.571429\n",
            "67                       Lavender Primary     2326.209091\n",
            "9                         Under the Dryer          1950.0\n",
            "65                     Mountain Warehouse          1675.0\n",
            "62                             North Face     1659.666667\n",
            "69                       Barbiee Boutique     1650.833333\n",
            "4                               Kew House     1626.666667\n",
            "2                         Happy Days Home     1572.526316\n",
            "35                           Rose & Crown      471.976471\n",
            "24                        Lloyds Pharmacy      259.431593\n",
            "11                                  Boots      141.087629\n",
            "6                                  Amazon      132.088865\n",
            "12                                   Asda       124.10184\n",
            "5                                 Halifax      100.181818\n",
            "10                             Kings Arms       73.737013\n",
            "43                            Hobby Lobby       54.584583\n",
            "38                             Craftastic       38.920833\n",
            "53                          Fitted Stitch       25.885278\n"
          ]
        },
        {
          "output_type": "stream",
          "name": "stderr",
          "text": [
            "/usr/local/lib/python3.7/dist-packages/pandas/util/_decorators.py:311: SettingWithCopyWarning: \n",
            "A value is trying to be set on a copy of a slice from a DataFrame\n",
            "\n",
            "See the caveats in the documentation: https://pandas.pydata.org/pandas-docs/stable/user_guide/indexing.html#returning-a-view-versus-a-copy\n",
            "  return func(*args, **kwargs)\n"
          ]
        }
      ]
    },
    {
      "cell_type": "code",
      "source": [
        "spends.sort_values(\"average_amount\",inplace=True, ascending=True)\n",
        "print(spends)"
      ],
      "metadata": {
        "id": "Mr9Bw3acgDCf",
        "colab": {
          "base_uri": "https://localhost:8080/"
        },
        "outputId": "02d87f89-ed42-4aea-d6ed-98bf78efd870"
      },
      "execution_count": null,
      "outputs": [
        {
          "output_type": "stream",
          "name": "stdout",
          "text": [
            "                  name  average_amount\n",
            "15                 LBG     -258.898058\n",
            "70       Mamas & Papas          -230.0\n",
            "59             Starada          -160.0\n",
            "71  Westport Care Home          -150.0\n",
            "57       Victoria Park          -130.0\n",
            "29      Loosely Fitted     -122.671311\n",
            "41                 H&M     -114.544298\n",
            "72  Sunny Care Nursery          -110.0\n",
            "49             TK Maxx       -94.25126\n",
            "39      Collector Cave      -79.794291\n",
            "33       Tesco Express      -79.077214\n",
            "40         Gamestation        -76.1065\n",
            "52                Game      -73.135926\n",
            "30          Coop Local      -67.007285\n",
            "50              Reebok      -64.324486\n",
            "44           JD Sports      -61.773714\n",
            "48              Adidas      -54.769051\n",
            "60            Cass Art         -44.985\n",
            "13     Sainsbury Local      -41.838069\n",
            "54    A Life on Canvas      -34.594545\n",
            "20     Grand Union BJJ      -31.468393\n",
            "51     Five Senses Art      -31.291818\n",
            "46             JustEat      -29.152457\n",
            "45           Deliveroo      -28.492718\n",
            "27           The Works         -27.482\n",
            "26         Daunt Books      -25.445355\n",
            "47              AMAZON      -24.577841\n",
            "37    Stitch By Stitch      -24.339394\n",
            "25              Foyles       -23.57205\n",
            "32          Hobbycraft      -22.660853\n",
            "58          Selfridges      -22.587556\n",
            "56                Etsy      -22.394675\n",
            "34                Wool       -19.35878\n",
            "23             PureGym          -18.99\n",
            "21             Netflix          -15.99\n",
            "18            Blizzard          -14.99\n",
            "17          SquareOnix          -12.99\n",
            "42             Topshop      -10.595082\n",
            "28             Revella      -10.520759\n",
            "22              Disney           -7.99\n",
            "19                Xbox            -7.0\n",
            "16      Mojang Studios           -5.99\n",
            "31           Starbucks       -5.906322\n",
            "36       Full of Beans        -5.87902\n",
            "55           Coffee #1       -3.833333\n"
          ]
        },
        {
          "output_type": "stream",
          "name": "stderr",
          "text": [
            "/usr/local/lib/python3.7/dist-packages/pandas/util/_decorators.py:311: SettingWithCopyWarning: \n",
            "A value is trying to be set on a copy of a slice from a DataFrame\n",
            "\n",
            "See the caveats in the documentation: https://pandas.pydata.org/pandas-docs/stable/user_guide/indexing.html#returning-a-view-versus-a-copy\n",
            "  return func(*args, **kwargs)\n"
          ]
        }
      ]
    },
    {
      "cell_type": "code",
      "source": [
        ""
      ],
      "metadata": {
        "id": "g9yNPbtigC7-"
      },
      "execution_count": null,
      "outputs": []
    },
    {
      "cell_type": "code",
      "source": [
        ""
      ],
      "metadata": {
        "id": "rt5C6CNdO08f"
      },
      "execution_count": null,
      "outputs": []
    },
    {
      "cell_type": "code",
      "source": [
        "new = data.where(data[\"amount\"]==2870.0)\n",
        "new"
      ],
      "metadata": {
        "id": "FMXlF9opa77q",
        "colab": {
          "base_uri": "https://localhost:8080/",
          "height": 424
        },
        "outputId": "38d0dfe5-8656-4d3c-d403-606d5810b333"
      },
      "execution_count": null,
      "outputs": [
        {
          "output_type": "execute_result",
          "data": {
            "text/plain": [
              "             date timestamp   account_no  balance  amount third_party_name\n",
              "0      01/01/2023     00:00  417831169.0   4166.0  2870.0     Pets at Home\n",
              "1             NaN       NaN          NaN      NaN     NaN              NaN\n",
              "2             NaN       NaN          NaN      NaN     NaN              NaN\n",
              "3             NaN       NaN          NaN      NaN     NaN              NaN\n",
              "4      01/01/2023     00:00  658100753.0   3904.0  2870.0      Pets Corner\n",
              "...           ...       ...          ...      ...     ...              ...\n",
              "12111         NaN       NaN          NaN      NaN     NaN              NaN\n",
              "12112         NaN       NaN          NaN      NaN     NaN              NaN\n",
              "12113         NaN       NaN          NaN      NaN     NaN              NaN\n",
              "12114         NaN       NaN          NaN      NaN     NaN              NaN\n",
              "12115         NaN       NaN          NaN      NaN     NaN              NaN\n",
              "\n",
              "[12116 rows x 6 columns]"
            ],
            "text/html": [
              "\n",
              "  <div id=\"df-924953aa-a2a9-4109-b8e3-bbc86efe1c70\">\n",
              "    <div class=\"colab-df-container\">\n",
              "      <div>\n",
              "<style scoped>\n",
              "    .dataframe tbody tr th:only-of-type {\n",
              "        vertical-align: middle;\n",
              "    }\n",
              "\n",
              "    .dataframe tbody tr th {\n",
              "        vertical-align: top;\n",
              "    }\n",
              "\n",
              "    .dataframe thead th {\n",
              "        text-align: right;\n",
              "    }\n",
              "</style>\n",
              "<table border=\"1\" class=\"dataframe\">\n",
              "  <thead>\n",
              "    <tr style=\"text-align: right;\">\n",
              "      <th></th>\n",
              "      <th>date</th>\n",
              "      <th>timestamp</th>\n",
              "      <th>account_no</th>\n",
              "      <th>balance</th>\n",
              "      <th>amount</th>\n",
              "      <th>third_party_name</th>\n",
              "    </tr>\n",
              "  </thead>\n",
              "  <tbody>\n",
              "    <tr>\n",
              "      <th>0</th>\n",
              "      <td>01/01/2023</td>\n",
              "      <td>00:00</td>\n",
              "      <td>417831169.0</td>\n",
              "      <td>4166.0</td>\n",
              "      <td>2870.0</td>\n",
              "      <td>Pets at Home</td>\n",
              "    </tr>\n",
              "    <tr>\n",
              "      <th>1</th>\n",
              "      <td>NaN</td>\n",
              "      <td>NaN</td>\n",
              "      <td>NaN</td>\n",
              "      <td>NaN</td>\n",
              "      <td>NaN</td>\n",
              "      <td>NaN</td>\n",
              "    </tr>\n",
              "    <tr>\n",
              "      <th>2</th>\n",
              "      <td>NaN</td>\n",
              "      <td>NaN</td>\n",
              "      <td>NaN</td>\n",
              "      <td>NaN</td>\n",
              "      <td>NaN</td>\n",
              "      <td>NaN</td>\n",
              "    </tr>\n",
              "    <tr>\n",
              "      <th>3</th>\n",
              "      <td>NaN</td>\n",
              "      <td>NaN</td>\n",
              "      <td>NaN</td>\n",
              "      <td>NaN</td>\n",
              "      <td>NaN</td>\n",
              "      <td>NaN</td>\n",
              "    </tr>\n",
              "    <tr>\n",
              "      <th>4</th>\n",
              "      <td>01/01/2023</td>\n",
              "      <td>00:00</td>\n",
              "      <td>658100753.0</td>\n",
              "      <td>3904.0</td>\n",
              "      <td>2870.0</td>\n",
              "      <td>Pets Corner</td>\n",
              "    </tr>\n",
              "    <tr>\n",
              "      <th>...</th>\n",
              "      <td>...</td>\n",
              "      <td>...</td>\n",
              "      <td>...</td>\n",
              "      <td>...</td>\n",
              "      <td>...</td>\n",
              "      <td>...</td>\n",
              "    </tr>\n",
              "    <tr>\n",
              "      <th>12111</th>\n",
              "      <td>NaN</td>\n",
              "      <td>NaN</td>\n",
              "      <td>NaN</td>\n",
              "      <td>NaN</td>\n",
              "      <td>NaN</td>\n",
              "      <td>NaN</td>\n",
              "    </tr>\n",
              "    <tr>\n",
              "      <th>12112</th>\n",
              "      <td>NaN</td>\n",
              "      <td>NaN</td>\n",
              "      <td>NaN</td>\n",
              "      <td>NaN</td>\n",
              "      <td>NaN</td>\n",
              "      <td>NaN</td>\n",
              "    </tr>\n",
              "    <tr>\n",
              "      <th>12113</th>\n",
              "      <td>NaN</td>\n",
              "      <td>NaN</td>\n",
              "      <td>NaN</td>\n",
              "      <td>NaN</td>\n",
              "      <td>NaN</td>\n",
              "      <td>NaN</td>\n",
              "    </tr>\n",
              "    <tr>\n",
              "      <th>12114</th>\n",
              "      <td>NaN</td>\n",
              "      <td>NaN</td>\n",
              "      <td>NaN</td>\n",
              "      <td>NaN</td>\n",
              "      <td>NaN</td>\n",
              "      <td>NaN</td>\n",
              "    </tr>\n",
              "    <tr>\n",
              "      <th>12115</th>\n",
              "      <td>NaN</td>\n",
              "      <td>NaN</td>\n",
              "      <td>NaN</td>\n",
              "      <td>NaN</td>\n",
              "      <td>NaN</td>\n",
              "      <td>NaN</td>\n",
              "    </tr>\n",
              "  </tbody>\n",
              "</table>\n",
              "<p>12116 rows × 6 columns</p>\n",
              "</div>\n",
              "      <button class=\"colab-df-convert\" onclick=\"convertToInteractive('df-924953aa-a2a9-4109-b8e3-bbc86efe1c70')\"\n",
              "              title=\"Convert this dataframe to an interactive table.\"\n",
              "              style=\"display:none;\">\n",
              "        \n",
              "  <svg xmlns=\"http://www.w3.org/2000/svg\" height=\"24px\"viewBox=\"0 0 24 24\"\n",
              "       width=\"24px\">\n",
              "    <path d=\"M0 0h24v24H0V0z\" fill=\"none\"/>\n",
              "    <path d=\"M18.56 5.44l.94 2.06.94-2.06 2.06-.94-2.06-.94-.94-2.06-.94 2.06-2.06.94zm-11 1L8.5 8.5l.94-2.06 2.06-.94-2.06-.94L8.5 2.5l-.94 2.06-2.06.94zm10 10l.94 2.06.94-2.06 2.06-.94-2.06-.94-.94-2.06-.94 2.06-2.06.94z\"/><path d=\"M17.41 7.96l-1.37-1.37c-.4-.4-.92-.59-1.43-.59-.52 0-1.04.2-1.43.59L10.3 9.45l-7.72 7.72c-.78.78-.78 2.05 0 2.83L4 21.41c.39.39.9.59 1.41.59.51 0 1.02-.2 1.41-.59l7.78-7.78 2.81-2.81c.8-.78.8-2.07 0-2.86zM5.41 20L4 18.59l7.72-7.72 1.47 1.35L5.41 20z\"/>\n",
              "  </svg>\n",
              "      </button>\n",
              "      \n",
              "  <style>\n",
              "    .colab-df-container {\n",
              "      display:flex;\n",
              "      flex-wrap:wrap;\n",
              "      gap: 12px;\n",
              "    }\n",
              "\n",
              "    .colab-df-convert {\n",
              "      background-color: #E8F0FE;\n",
              "      border: none;\n",
              "      border-radius: 50%;\n",
              "      cursor: pointer;\n",
              "      display: none;\n",
              "      fill: #1967D2;\n",
              "      height: 32px;\n",
              "      padding: 0 0 0 0;\n",
              "      width: 32px;\n",
              "    }\n",
              "\n",
              "    .colab-df-convert:hover {\n",
              "      background-color: #E2EBFA;\n",
              "      box-shadow: 0px 1px 2px rgba(60, 64, 67, 0.3), 0px 1px 3px 1px rgba(60, 64, 67, 0.15);\n",
              "      fill: #174EA6;\n",
              "    }\n",
              "\n",
              "    [theme=dark] .colab-df-convert {\n",
              "      background-color: #3B4455;\n",
              "      fill: #D2E3FC;\n",
              "    }\n",
              "\n",
              "    [theme=dark] .colab-df-convert:hover {\n",
              "      background-color: #434B5C;\n",
              "      box-shadow: 0px 1px 3px 1px rgba(0, 0, 0, 0.15);\n",
              "      filter: drop-shadow(0px 1px 2px rgba(0, 0, 0, 0.3));\n",
              "      fill: #FFFFFF;\n",
              "    }\n",
              "  </style>\n",
              "\n",
              "      <script>\n",
              "        const buttonEl =\n",
              "          document.querySelector('#df-924953aa-a2a9-4109-b8e3-bbc86efe1c70 button.colab-df-convert');\n",
              "        buttonEl.style.display =\n",
              "          google.colab.kernel.accessAllowed ? 'block' : 'none';\n",
              "\n",
              "        async function convertToInteractive(key) {\n",
              "          const element = document.querySelector('#df-924953aa-a2a9-4109-b8e3-bbc86efe1c70');\n",
              "          const dataTable =\n",
              "            await google.colab.kernel.invokeFunction('convertToInteractive',\n",
              "                                                     [key], {});\n",
              "          if (!dataTable) return;\n",
              "\n",
              "          const docLinkHtml = 'Like what you see? Visit the ' +\n",
              "            '<a target=\"_blank\" href=https://colab.research.google.com/notebooks/data_table.ipynb>data table notebook</a>'\n",
              "            + ' to learn more about interactive tables.';\n",
              "          element.innerHTML = '';\n",
              "          dataTable['output_type'] = 'display_data';\n",
              "          await google.colab.output.renderOutput(dataTable, element);\n",
              "          const docLink = document.createElement('div');\n",
              "          docLink.innerHTML = docLinkHtml;\n",
              "          element.appendChild(docLink);\n",
              "        }\n",
              "      </script>\n",
              "    </div>\n",
              "  </div>\n",
              "  "
            ]
          },
          "metadata": {},
          "execution_count": 96
        }
      ]
    },
    {
      "cell_type": "code",
      "source": [
        ""
      ],
      "metadata": {
        "id": "5cDv9MmuJNYo"
      },
      "execution_count": null,
      "outputs": []
    }
  ]
}